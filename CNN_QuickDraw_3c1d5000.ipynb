{
 "cells": [
  {
   "cell_type": "markdown",
   "metadata": {},
   "source": [
    "# CNN project using partial Quick Draw dataset\n",
    "\n",
    "\n",
    "Data source : https://console.cloud.google.com/storage/browser/quickdraw_dataset/full/numpy_bitmap\n",
    "\n",
    "This project uses Keras to implement a CNN model and comprises of the following parts :\n",
    "\n",
    "(1) A CNN model which classifies images downloaded from the Quick Draw dataset.\n",
    "    Quickdraw images used are in the 28 x 28 numpy bitmap format. \n",
    "    Program reads all quick draw .npy files from './data_quickdraw_npy/' sub-directory.\n",
    "    Model has been trained on a downloaded quick draw sub-dataset of 40 classes with 2000 images per class.\n",
    "    Program can accept varying number of classes (determined by the number of downloaded .npy files) and \n",
    "    images per class can be changed by resetting global variable n_images_per_class.\n",
    "    The trained keras model has been saved in the sub-directory './model/'.\n",
    "\n",
    "(2) The model is used to predict class of objects in selected images of drawings from outside the quickdraw data set.\n",
    "\n",
    "(3) A database of feature vectors has been compiled for the downloaded quick draw sub-dataset and \n",
    "    saved in the sub-directory './data/'. \n",
    "\n",
    "(4) A simple nearest image search routine based on shortest euclidean distance between \n",
    "    the feature vector of a test image and the feature vectors from the compiled quick draw feature vector database\n",
    "    is used to display quick draw images closest to the test image.\n",
    "\n",
    "\n"
   ]
  },
  {
   "cell_type": "markdown",
   "metadata": {},
   "source": [
    "# Imports and Inits"
   ]
  },
  {
   "cell_type": "code",
   "execution_count": 1,
   "metadata": {},
   "outputs": [
    {
     "name": "stderr",
     "output_type": "stream",
     "text": [
      "Using TensorFlow backend.\n"
     ]
    }
   ],
   "source": [
    "import random\n",
    "%matplotlib inline\n",
    "import matplotlib.pyplot as plt\n",
    "import matplotlib.image as mpimg\n",
    "\n",
    "import keras\n",
    "from keras.preprocessing.image import ImageDataGenerator\n",
    "from keras.models import Sequential, Model, load_model\n",
    "from keras.layers import Dense, Dropout, Activation, Flatten, Input\n",
    "from keras.layers import Conv2D, MaxPooling2D\n",
    "import keras.backend as K\n",
    "\n",
    "import tensorflow as tf\n",
    "\n",
    "import os\n",
    "import pickle\n",
    "import numpy as np"
   ]
  },
  {
   "cell_type": "code",
   "execution_count": 2,
   "metadata": {},
   "outputs": [
    {
     "name": "stdout",
     "output_type": "stream",
     "text": [
      "2.0.8\n",
      "1.3.0\n"
     ]
    }
   ],
   "source": [
    "print(keras.__version__)\n",
    "print(tf.__version__)"
   ]
  },
  {
   "cell_type": "code",
   "execution_count": 3,
   "metadata": {},
   "outputs": [
    {
     "data": {
      "application/javascript": [
       "var kernel = IPython.notebook.kernel;\n",
       "var thename = window.document.getElementById(\"notebook_name\").innerHTML;\n",
       "var command = \"thisNotebook = \" + \"'\"+thename+\"'\";\n",
       "kernel.execute(command);"
      ],
      "text/plain": [
       "<IPython.core.display.Javascript object>"
      ]
     },
     "metadata": {},
     "output_type": "display_data"
    }
   ],
   "source": [
    "%%javascript\n",
    "var kernel = IPython.notebook.kernel;\n",
    "var thename = window.document.getElementById(\"notebook_name\").innerHTML;\n",
    "var command = \"thisNotebook = \" + \"'\"+thename+\"'\";\n",
    "kernel.execute(command);"
   ]
  },
  {
   "cell_type": "code",
   "execution_count": 4,
   "metadata": {},
   "outputs": [
    {
     "name": "stdout",
     "output_type": "stream",
     "text": [
      "./model/CNN_QuickDraw_3c1d5000\n",
      "./data/CNN_QuickDraw_3c1d5000.npy\n"
     ]
    }
   ],
   "source": [
    "# global variables\n",
    "IMGROW = 28\n",
    "IMGCOL = 28\n",
    "IMGSIZ = 784        # IMGROW * IMGCOL\n",
    "\n",
    "n_data_per_class = 5000  # this can be changed up to about 100,000 depending \n",
    "                         # on the minimum of available images per class across all classes\n",
    "\n",
    "class_dtype = 'int8'     # assumming number of classes <= 2^7 or 128, can be changed to accommodate bigger number of classes\n",
    "\n",
    "dir_quickdraw_npy = './data_quickdraw_npy/'\n",
    "dir_image = './data_image/'\n",
    "dir_data = './data/'\n",
    "dir_model = './model/'\n",
    "\n",
    "prf = './data_quickdraw_npy/full%2Fnumpy_bitmap%2F'  # quickdraw files prefix\n",
    "plen = len('full%2Fnumpy_bitmap%2F')\n",
    "\n",
    "\n",
    "fname_model = dir_model + thisNotebook\n",
    "fname_feature_vec_npy = dir_data + thisNotebook + '.npy'\n",
    "\n",
    "print(fname_model)\n",
    "print(fname_feature_vec_npy)"
   ]
  },
  {
   "cell_type": "markdown",
   "metadata": {},
   "source": [
    "# Read dataset from downloaded from quickdraw"
   ]
  },
  {
   "cell_type": "code",
   "execution_count": 5,
   "metadata": {},
   "outputs": [
    {
     "name": "stdout",
     "output_type": "stream",
     "text": [
      "Number of classes : 40\n",
      "['airplane', 'apple', 'banana', 'baseball bat', 'basket', 'bee', 'bicycle', 'bird', 'bus', 'cactus', 'calculator', 'camel', 'candle', 'cat', 'donut', 'duck', 'eye', 'face', 'flip flops', 'flower', 'grapes', 'hedgehog', 'house plant', 'ladder', 'light bulb', 'microphone', 'moon', 'octopus', 'palm tree', 'pencil', 'pizza', 'rabbit', 'school bus', 'scissors', 'sheep', 'snake', 't-shirt', 'The Eiffel Tower', 'umbrella', 'windmill']\n"
     ]
    }
   ],
   "source": [
    "ff = os.listdir(dir_quickdraw_npy)\n",
    "classes = []\n",
    "for i,f in enumerate(ff):\n",
    "    cf = f[plen:]   # remove front part of file name to get class tag\n",
    "    c = cf[:len(cf)-4]   # remove .npy file extension from class tag \n",
    "    classes.append(c)\n",
    "if i >= np.iinfo(np.int8).max:\n",
    "    print(\"Please change class_dtype in global variables section above to a larger integer representation\")\n",
    "print(\"Number of classes :\", i+1)\n",
    "print(classes)\n",
    "n_classes = len(classes)\n"
   ]
  },
  {
   "cell_type": "code",
   "execution_count": 6,
   "metadata": {},
   "outputs": [
    {
     "name": "stdout",
     "output_type": "stream",
     "text": [
      "(200000, 784)\n"
     ]
    }
   ],
   "source": [
    "n_data_all = n_data_per_class * n_classes\n",
    "\n",
    "img_count = []\n",
    "x_data = np.zeros((n_data_all,IMGSIZ))\n",
    "\n",
    "for i, c in enumerate(classes):\n",
    "\n",
    "    fname = prf + c + '.npy'\n",
    "    tmp_data = np.load(fname)\n",
    "\n",
    "    # check shape of data\n",
    "    img_count.append(tmp_data.shape[0])\n",
    "    #print(\"Class\",c,\"data shape :\",tmp_data.shape)\n",
    "    if tmp_data.shape[1] != IMGSIZ or tmp_data.shape[0] < n_data_per_class:\n",
    "        print('Error in', c)\n",
    "        break\n",
    "\n",
    "    # take random sample from read images\n",
    "    random_samples = np.arange(tmp_data.shape[0])\n",
    "    np.random.shuffle(random_samples)\n",
    "\n",
    "    # copy first n_data_per_class random samples\n",
    "    x_data[i*n_data_per_class:(i+1)*n_data_per_class,:] = tmp_data[random_samples[0:n_data_per_class],:]\n",
    "\n",
    "\n",
    "#print(img_count)\n",
    "#print(sorted(img_count))\n",
    "print(x_data.shape)"
   ]
  },
  {
   "cell_type": "code",
   "execution_count": 7,
   "metadata": {
    "collapsed": true
   },
   "outputs": [],
   "source": [
    "#labels = [np.full((n_data_per_class,), classes.index(s)) for s in classes]\n",
    "#y_data = np.concatenate(labels,axis=0)  ## Concat the arrays together\n",
    "\n",
    "y_data = np.zeros(n_data_all,dtype=class_dtype)\n",
    "for i, c in enumerate(classes):\n",
    "    y_data[i*n_data_per_class:(i+1)*n_data_per_class] = i\n",
    "    #print(y_data[i*n_data_per_class],y_data[(i+1)*n_data_per_class-1])"
   ]
  },
  {
   "cell_type": "code",
   "execution_count": 8,
   "metadata": {},
   "outputs": [
    {
     "name": "stdout",
     "output_type": "stream",
     "text": [
      "(200000, 784) (200000,)\n",
      "float64 int8\n"
     ]
    }
   ],
   "source": [
    "print(x_data.shape, y_data.shape) \n",
    "print(x_data.dtype, y_data.dtype)"
   ]
  },
  {
   "cell_type": "markdown",
   "metadata": {
    "collapsed": true
   },
   "source": [
    "# Shuffle and split data"
   ]
  },
  {
   "cell_type": "code",
   "execution_count": 9,
   "metadata": {},
   "outputs": [
    {
     "name": "stdout",
     "output_type": "stream",
     "text": [
      "iend_train, iend_val : 160000 180000\n",
      "Sampling trn : [ 94549   9303 172974   9756  61156]\n",
      "Sampling val : [189277 158989  80897 148814 152652]\n",
      "Sampling tes : [ 34799 174940  27644 118111 116525]\n",
      "Expected classes trn : [18  1 34  1 12]\n",
      "Expected classes tes : [37 31 16 29 30]\n",
      "Expected classes val : [ 6 34  5 23 23]\n",
      "-------------------------\n",
      "x_data_shuffled, y_data_shuffled shapes : (200000, 784) (200000,)\n",
      "[18  1 34  1 12]\n",
      "[37 31 16 29 30]\n",
      "[ 6 34  5 23 23]\n",
      "-------------------------\n",
      "x_trn, x_val, x_tes shapes: (160000, 784) (20000, 784) (20000, 784)\n",
      "y_trn, y_val, y_tes shapes: (160000,) (20000,) (20000,)\n",
      "[18  1 34  1 12]\n",
      "[37 31 16 29 30]\n",
      "[ 6 34  5 23 23]\n"
     ]
    }
   ],
   "source": [
    "frac_trn = 0.8\n",
    "frac_val = 0.1\n",
    "frac_tes = 0.1\n",
    "samples_to_print =  5\n",
    "\n",
    "assert((frac_trn + frac_val + frac_tes)==1.0)\n",
    "\n",
    "iend_trn = int(frac_trn * n_data_all)\n",
    "iend_val = int(frac_val * n_data_all) + iend_trn\n",
    "print(\"iend_train, iend_val :\",iend_trn, iend_val)\n",
    "\n",
    "random_indices = np.random.permutation(n_data_all)\n",
    "\n",
    "nrand_trn = random.randint(0, int(frac_trn * n_data_all)-samples_to_print)\n",
    "nrand_val = random.randint(0, int(frac_val * n_data_all)-samples_to_print)\n",
    "nrand_tes = random.randint(0, int(frac_tes * n_data_all)-samples_to_print)\n",
    "\n",
    "rs_trn = random_indices[           nrand_trn :            nrand_trn + samples_to_print]\n",
    "rs_val = random_indices[iend_trn + nrand_val : iend_trn + nrand_val + samples_to_print]\n",
    "rs_tes = random_indices[iend_val + nrand_tes : iend_val + nrand_tes + samples_to_print]\n",
    "print(\"Sampling trn :\", rs_trn)\n",
    "print(\"Sampling val :\", rs_val)\n",
    "print(\"Sampling tes :\", rs_tes)\n",
    "sc_trn = rs_trn / n_data_per_class\n",
    "sc_val = rs_val / n_data_per_class\n",
    "sc_tes = rs_tes / n_data_per_class\n",
    "sc_trn = sc_trn.astype('int32')\n",
    "sc_val = sc_val.astype('int32')\n",
    "sc_tes = sc_tes.astype('int32')\n",
    "print(\"Expected classes trn :\", sc_trn)\n",
    "print(\"Expected classes tes :\", sc_val)\n",
    "print(\"Expected classes val :\", sc_tes)\n",
    "\n",
    "print(\"-------------------------\")\n",
    "\n",
    "\n",
    "x_data_shuffled = x_data[random_indices,:]\n",
    "y_data_shuffled = y_data[random_indices]\n",
    "print(\"x_data_shuffled, y_data_shuffled shapes :\", x_data_shuffled.shape,y_data_shuffled.shape)\n",
    "\n",
    "print(y_data_shuffled[           nrand_trn :            nrand_trn + samples_to_print])\n",
    "print(y_data_shuffled[iend_trn + nrand_val : iend_trn + nrand_val + samples_to_print])\n",
    "print(y_data_shuffled[iend_val + nrand_tes : iend_val + nrand_tes + samples_to_print])\n",
    "print(\"-------------------------\")\n",
    "\n",
    "x_trn = x_data_shuffled[:iend_trn,:]\n",
    "y_trn = y_data_shuffled[:iend_trn]\n",
    "\n",
    "x_val = x_data_shuffled[iend_trn:iend_val,:]\n",
    "y_val = y_data_shuffled[iend_trn:iend_val]\n",
    "\n",
    "x_tes = x_data_shuffled[iend_val:,:]\n",
    "y_tes = y_data_shuffled[iend_val:]\n",
    "\n",
    "print(\"x_trn, x_val, x_tes shapes:\", x_trn.shape, x_val.shape, x_tes.shape)\n",
    "print(\"y_trn, y_val, y_tes shapes:\", y_trn.shape, y_val.shape, y_tes.shape)\n",
    "print(y_trn[nrand_trn : nrand_trn + samples_to_print])\n",
    "print(y_val[nrand_val : nrand_val + samples_to_print])\n",
    "print(y_tes[nrand_tes : nrand_tes + samples_to_print])\n"
   ]
  },
  {
   "cell_type": "markdown",
   "metadata": {},
   "source": [
    "## Check Images - plot histogram of classes"
   ]
  },
  {
   "cell_type": "code",
   "execution_count": 10,
   "metadata": {},
   "outputs": [
    {
     "data": {
      "image/png": "[encoded data removed]",
      "text/plain": [
       "<matplotlib.figure.Figure at 0x2364b043eb8>"
      ]
     },
     "metadata": {},
     "output_type": "display_data"
    }
   ],
   "source": [
    "plt.hist(y_trn, bins=n_classes, range=[0, n_classes], histtype='step')\n",
    "\n",
    "plt.title(\"Histogram of y_trn classes\")\n",
    "plt.show()\n"
   ]
  },
  {
   "cell_type": "code",
   "execution_count": 11,
   "metadata": {},
   "outputs": [
    {
     "data": {
      "image/png": "[encoded data removed]",
      "text/plain": [
       "<matplotlib.figure.Figure at 0x2369603a0f0>"
      ]
     },
     "metadata": {},
     "output_type": "display_data"
    }
   ],
   "source": [
    "plt.hist(y_val, bins=n_classes, range=[0, n_classes], histtype='step')\n",
    "\n",
    "plt.title(\"Histogram of y_val classes\")\n",
    "plt.show()"
   ]
  },
  {
   "cell_type": "code",
   "execution_count": 12,
   "metadata": {},
   "outputs": [
    {
     "data": {
      "image/png": "[encoded data removed]",
      "text/plain": [
       "<matplotlib.figure.Figure at 0x2369613c128>"
      ]
     },
     "metadata": {},
     "output_type": "display_data"
    }
   ],
   "source": [
    "plt.hist(y_tes, bins=n_classes, range=[0, n_classes], histtype='step')\n",
    "\n",
    "plt.title(\"Histogram of y_tes classes\")\n",
    "plt.show()"
   ]
  },
  {
   "cell_type": "markdown",
   "metadata": {},
   "source": [
    "## Check Images - plot random samples"
   ]
  },
  {
   "cell_type": "code",
   "execution_count": 13,
   "metadata": {
    "collapsed": true
   },
   "outputs": [],
   "source": [
    "def show_object(obj):\n",
    "    # Reshape IMGSIZ array into IMGROW x IMGCOL image\n",
    "    image = obj.reshape([IMGROW,IMGCOL])\n",
    "    fig, axes = plt.subplots(1, )\n",
    "    fig.subplots_adjust(hspace=0.5, wspace=0.5)\n",
    "    plt.imshow(image, cmap='gray_r')\n",
    "    plt.show()"
   ]
  },
  {
   "cell_type": "code",
   "execution_count": 14,
   "metadata": {},
   "outputs": [
    {
     "data": {
      "image/png": "[encoded data removed]",
      "text/plain": [
       "<matplotlib.figure.Figure at 0x236960aaf28>"
      ]
     },
     "metadata": {},
     "output_type": "display_data"
    },
    {
     "name": "stdout",
     "output_type": "stream",
     "text": [
      "Random sample trn : 42461 10 calculator\n"
     ]
    },
    {
     "data": {
      "image/png": "[encoded data removed]",
      "text/plain": [
       "<matplotlib.figure.Figure at 0x2369673e320>"
      ]
     },
     "metadata": {},
     "output_type": "display_data"
    },
    {
     "name": "stdout",
     "output_type": "stream",
     "text": [
      "Random sample val : 5151 17 face\n"
     ]
    },
    {
     "data": {
      "image/png": "[encoded data removed]",
      "text/plain": [
       "<matplotlib.figure.Figure at 0x236965f7160>"
      ]
     },
     "metadata": {},
     "output_type": "display_data"
    },
    {
     "name": "stdout",
     "output_type": "stream",
     "text": [
      "Random sample tes: 13369 19 flower\n"
     ]
    }
   ],
   "source": [
    "# show random object and label\n",
    "n = int(random.uniform(0,1)*len(y_trn))\n",
    "show_object(x_trn[n])\n",
    "print(\"Random sample trn :\", n, y_trn[n],classes[y_trn[n]])\n",
    "\n",
    "n = int(random.uniform(0,1)*len(y_val))\n",
    "show_object(x_val[n])\n",
    "print(\"Random sample val :\",n, y_val[n],classes[y_val[n]])\n",
    "\n",
    "n = int(random.uniform(0,1)*len(y_tes))\n",
    "show_object(x_tes[n])\n",
    "print(\"Random sample tes:\",n, y_tes[n],classes[y_tes[n]])"
   ]
  },
  {
   "cell_type": "markdown",
   "metadata": {
    "collapsed": true
   },
   "source": [
    "# Reshape and normalise x data"
   ]
  },
  {
   "cell_type": "code",
   "execution_count": 15,
   "metadata": {},
   "outputs": [
    {
     "name": "stdout",
     "output_type": "stream",
     "text": [
      "(160000, 28, 28, 1) (20000, 28, 28, 1) (20000, 28, 28, 1)\n"
     ]
    }
   ],
   "source": [
    "# reshape the data into format (width, Height, channels)\n",
    "input_shape = (IMGROW, IMGCOL, 1)\n",
    "\n",
    "x_trn = x_trn.reshape(x_trn.shape[0], IMGROW, IMGCOL, 1)\n",
    "x_val = x_val.reshape(x_val.shape[0], IMGROW, IMGCOL, 1)\n",
    "x_tes = x_tes.reshape(x_tes.shape[0], IMGROW, IMGCOL, 1)\n",
    "\n",
    "x_trn = x_trn.astype('float32')\n",
    "x_val = x_val.astype('float32')\n",
    "x_tes = x_tes.astype('float32')\n",
    "\n",
    "x_trn /= 255\n",
    "x_val /= 255\n",
    "x_tes /= 255\n",
    "\n",
    "print(x_trn.shape, x_val.shape, x_tes.shape)\n"
   ]
  },
  {
   "cell_type": "markdown",
   "metadata": {},
   "source": [
    "# Generate one-hot for y data"
   ]
  },
  {
   "cell_type": "code",
   "execution_count": 16,
   "metadata": {},
   "outputs": [
    {
     "name": "stdout",
     "output_type": "stream",
     "text": [
      "(160000,) (20000,) (20000,)\n",
      "(160000, 40) (20000, 40) (20000, 40)\n"
     ]
    }
   ],
   "source": [
    "# convert class vectors to binary class matrices\n",
    "\n",
    "y_trn_1hot = keras.utils.to_categorical(y_trn, n_classes)\n",
    "y_val_1hot = keras.utils.to_categorical(y_val, n_classes)\n",
    "y_tes_1hot = keras.utils.to_categorical(y_tes, n_classes)\n",
    "\n",
    "print(y_trn.shape, y_val.shape, y_tes.shape)\n",
    "print(y_trn_1hot.shape, y_val_1hot.shape, y_tes_1hot.shape)\n"
   ]
  },
  {
   "cell_type": "markdown",
   "metadata": {},
   "source": [
    "# Define Model"
   ]
  },
  {
   "cell_type": "code",
   "execution_count": 17,
   "metadata": {
    "collapsed": true
   },
   "outputs": [],
   "source": [
    "# Model\n",
    "\n",
    "batch_size = 32\n",
    "epochs = 25\n",
    "\n",
    "Inp = Input(shape=input_shape)\n",
    "x = Conv2D(16, (3, 3), activation='relu',name = 'Conv_01')(Inp)\n",
    "x = Conv2D(16, (3, 3), activation='relu',name = 'Conv_02')(x)\n",
    "x = MaxPooling2D(pool_size=(2, 2),name = 'MaxPool_01')(x)\n",
    "\n",
    "x = Conv2D(16, (3, 3), activation='relu',name = 'Conv_03')(x)\n",
    "x = MaxPooling2D(pool_size=(2, 2),name = 'MaxPool_02')(x)\n",
    "x = Dropout(0.25,name = 'Dropout_01')(x)\n",
    "\n",
    "x = Flatten(name = 'Flatten_01')(x)\n",
    "x = Dense(512, activation='relu',name = 'Dense_01')(x)\n",
    "x = Dropout(0.25,name = 'Dropout_02')(x)\n",
    "output = Dense(n_classes, activation='softmax',name = 'Dense_02')(x)\n",
    "\n"
   ]
  },
  {
   "cell_type": "code",
   "execution_count": 18,
   "metadata": {
    "collapsed": true
   },
   "outputs": [],
   "source": [
    "model = Model(Inp,output)"
   ]
  },
  {
   "cell_type": "code",
   "execution_count": 19,
   "metadata": {},
   "outputs": [
    {
     "name": "stdout",
     "output_type": "stream",
     "text": [
      "_________________________________________________________________\n",
      "Layer (type)                 Output Shape              Param #   \n",
      "=================================================================\n",
      "input_1 (InputLayer)         (None, 28, 28, 1)         0         \n",
      "_________________________________________________________________\n",
      "Conv_01 (Conv2D)             (None, 26, 26, 16)        160       \n",
      "_________________________________________________________________\n",
      "Conv_02 (Conv2D)             (None, 24, 24, 16)        2320      \n",
      "_________________________________________________________________\n",
      "MaxPool_01 (MaxPooling2D)    (None, 12, 12, 16)        0         \n",
      "_________________________________________________________________\n",
      "Conv_03 (Conv2D)             (None, 10, 10, 16)        2320      \n",
      "_________________________________________________________________\n",
      "MaxPool_02 (MaxPooling2D)    (None, 5, 5, 16)          0         \n",
      "_________________________________________________________________\n",
      "Dropout_01 (Dropout)         (None, 5, 5, 16)          0         \n",
      "_________________________________________________________________\n",
      "Flatten_01 (Flatten)         (None, 400)               0         \n",
      "_________________________________________________________________\n",
      "Dense_01 (Dense)             (None, 512)               205312    \n",
      "_________________________________________________________________\n",
      "Dropout_02 (Dropout)         (None, 512)               0         \n",
      "_________________________________________________________________\n",
      "Dense_02 (Dense)             (None, 40)                20520     \n",
      "=================================================================\n",
      "Total params: 230,632\n",
      "Trainable params: 230,632\n",
      "Non-trainable params: 0\n",
      "_________________________________________________________________\n"
     ]
    }
   ],
   "source": [
    "model.summary()"
   ]
  },
  {
   "cell_type": "markdown",
   "metadata": {},
   "source": [
    "# Compile and Run Model with Train and Validation data"
   ]
  },
  {
   "cell_type": "code",
   "execution_count": 20,
   "metadata": {
    "collapsed": true
   },
   "outputs": [],
   "source": [
    "model.compile(loss=keras.losses.categorical_crossentropy,\n",
    "              optimizer=keras.optimizers.Adadelta(),\n",
    "              metrics=['accuracy'])"
   ]
  },
  {
   "cell_type": "code",
   "execution_count": 21,
   "metadata": {
    "scrolled": false
   },
   "outputs": [
    {
     "name": "stdout",
     "output_type": "stream",
     "text": [
      "Train on 160000 samples, validate on 20000 samples\n",
      "Epoch 1/25\n",
      "160000/160000 [==============================] - 173s - loss: 1.3460 - acc: 0.6277 - val_loss: 0.8909 - val_acc: 0.7520\n",
      "Epoch 2/25\n",
      "160000/160000 [==============================] - 180s - loss: 0.9721 - acc: 0.7260 - val_loss: 0.7737 - val_acc: 0.7841\n",
      "Epoch 3/25\n",
      "160000/160000 [==============================] - 180s - loss: 0.8688 - acc: 0.7540 - val_loss: 0.7032 - val_acc: 0.8022\n",
      "Epoch 4/25\n",
      "160000/160000 [==============================] - 185s - loss: 0.8095 - acc: 0.7690 - val_loss: 0.6792 - val_acc: 0.8104\n",
      "Epoch 5/25\n",
      "160000/160000 [==============================] - 191s - loss: 0.7694 - acc: 0.7800 - val_loss: 0.6420 - val_acc: 0.8204\n",
      "Epoch 6/25\n",
      "160000/160000 [==============================] - 188s - loss: 0.7454 - acc: 0.7868 - val_loss: 0.6309 - val_acc: 0.8218\n",
      "Epoch 7/25\n",
      "160000/160000 [==============================] - 183s - loss: 0.7173 - acc: 0.7942 - val_loss: 0.6121 - val_acc: 0.8272\n",
      "Epoch 8/25\n",
      "160000/160000 [==============================] - 182s - loss: 0.7028 - acc: 0.7991 - val_loss: 0.6052 - val_acc: 0.8264\n",
      "Epoch 9/25\n",
      "160000/160000 [==============================] - 189s - loss: 0.6834 - acc: 0.8039 - val_loss: 0.5944 - val_acc: 0.8331\n",
      "Epoch 10/25\n",
      "160000/160000 [==============================] - 183s - loss: 0.6734 - acc: 0.8062 - val_loss: 0.5838 - val_acc: 0.8337\n",
      "Epoch 11/25\n",
      "160000/160000 [==============================] - 181s - loss: 0.6602 - acc: 0.8108 - val_loss: 0.5704 - val_acc: 0.8399\n",
      "Epoch 12/25\n",
      "160000/160000 [==============================] - 181s - loss: 0.6530 - acc: 0.8126 - val_loss: 0.5723 - val_acc: 0.8365\n",
      "Epoch 13/25\n",
      "160000/160000 [==============================] - 178s - loss: 0.6421 - acc: 0.8155 - val_loss: 0.5678 - val_acc: 0.8390\n",
      "Epoch 14/25\n",
      "160000/160000 [==============================] - 179s - loss: 0.6346 - acc: 0.8174 - val_loss: 0.5555 - val_acc: 0.8423\n",
      "Epoch 15/25\n",
      "160000/160000 [==============================] - 179s - loss: 0.6275 - acc: 0.8205 - val_loss: 0.5532 - val_acc: 0.8435\n",
      "Epoch 16/25\n",
      "160000/160000 [==============================] - 178s - loss: 0.6195 - acc: 0.8221 - val_loss: 0.5558 - val_acc: 0.8435\n",
      "Epoch 17/25\n",
      "160000/160000 [==============================] - 181s - loss: 0.6182 - acc: 0.8225 - val_loss: 0.5478 - val_acc: 0.8460\n",
      "Epoch 18/25\n",
      "160000/160000 [==============================] - 183s - loss: 0.6117 - acc: 0.8253 - val_loss: 0.5357 - val_acc: 0.8504\n",
      "Epoch 19/25\n",
      "160000/160000 [==============================] - 179s - loss: 0.6095 - acc: 0.8248 - val_loss: 0.5374 - val_acc: 0.8488\n",
      "Epoch 20/25\n",
      "160000/160000 [==============================] - 178s - loss: 0.6049 - acc: 0.8266 - val_loss: 0.5367 - val_acc: 0.8480\n",
      "Epoch 21/25\n",
      "160000/160000 [==============================] - 179s - loss: 0.5972 - acc: 0.8290 - val_loss: 0.5319 - val_acc: 0.8494\n",
      "Epoch 22/25\n",
      "160000/160000 [==============================] - 179s - loss: 0.5979 - acc: 0.8279 - val_loss: 0.5301 - val_acc: 0.8490\n",
      "Epoch 23/25\n",
      "160000/160000 [==============================] - 179s - loss: 0.5922 - acc: 0.8302 - val_loss: 0.5266 - val_acc: 0.8518\n",
      "Epoch 24/25\n",
      "160000/160000 [==============================] - 179s - loss: 0.5915 - acc: 0.8298 - val_loss: 0.5227 - val_acc: 0.8507\n",
      "Epoch 25/25\n",
      "160000/160000 [==============================] - 179s - loss: 0.5868 - acc: 0.8327 - val_loss: 0.5219 - val_acc: 0.8506\n"
     ]
    }
   ],
   "source": [
    "hist = model.fit(x_trn, y_trn_1hot,\n",
    "          batch_size=batch_size,\n",
    "          epochs=epochs,\n",
    "          verbose=1,\n",
    "          callbacks = None,\n",
    "          validation_data=(x_val, y_val_1hot))"
   ]
  },
  {
   "cell_type": "code",
   "execution_count": 22,
   "metadata": {
    "collapsed": true
   },
   "outputs": [],
   "source": [
    "model.save(fname_model)"
   ]
  },
  {
   "cell_type": "code",
   "execution_count": 23,
   "metadata": {
    "collapsed": true
   },
   "outputs": [],
   "source": [
    "def plot_train(hist):\n",
    "    h = hist.history\n",
    "    if 'acc' in h:\n",
    "        meas='acc'\n",
    "        loc='lower right'\n",
    "    else:\n",
    "        meas='loss'\n",
    "        loc='upper right'\n",
    "    plt.plot(hist.history[meas])\n",
    "    plt.plot(hist.history['val_'+meas])\n",
    "    plt.title('model '+meas)\n",
    "    plt.ylabel(meas)\n",
    "    plt.xlabel('epoch')\n",
    "    plt.legend(['train', 'validation'], loc=loc)\n",
    "    "
   ]
  },
  {
   "cell_type": "code",
   "execution_count": 24,
   "metadata": {},
   "outputs": [
    {
     "data": {
      "image/png": "[encoded data removed]",
      "text/plain": [
       "<matplotlib.figure.Figure at 0x236f2f1cf60>"
      ]
     },
     "metadata": {},
     "output_type": "display_data"
    }
   ],
   "source": [
    "plot_train(hist)"
   ]
  },
  {
   "cell_type": "markdown",
   "metadata": {},
   "source": [
    "# Evaluate model with Test data"
   ]
  },
  {
   "cell_type": "code",
   "execution_count": 25,
   "metadata": {
    "collapsed": true
   },
   "outputs": [],
   "source": [
    "model = load_model(fname_model)"
   ]
  },
  {
   "cell_type": "code",
   "execution_count": 25,
   "metadata": {},
   "outputs": [
    {
     "name": "stdout",
     "output_type": "stream",
     "text": [
      "20000/20000 [==============================] - 5s     \n",
      "Model Accuracy = 0.85\n",
      "Model Loss = 0.53\n"
     ]
    }
   ],
   "source": [
    "# Evaluate model with test data set and share sample prediction results\n",
    "evaluation = model.evaluate(x_tes, y_tes_1hot,\n",
    "          batch_size=batch_size)\n",
    "print('Model Accuracy = %.2f' % (evaluation[1]))\n",
    "print('Model Loss = %.2f' % (evaluation[0]))"
   ]
  },
  {
   "cell_type": "markdown",
   "metadata": {},
   "source": [
    "# Test model with images outside QuickDraw dataset"
   ]
  },
  {
   "cell_type": "code",
   "execution_count": 26,
   "metadata": {
    "collapsed": true
   },
   "outputs": [],
   "source": [
    "from keras.preprocessing import image\n",
    "from keras.applications.imagenet_utils import preprocess_input, decode_predictions"
   ]
  },
  {
   "cell_type": "code",
   "execution_count": 27,
   "metadata": {
    "collapsed": true
   },
   "outputs": [],
   "source": [
    "# read an image file and return numpy array of dimension (1,IMGROW,IMGCOL,1)\n",
    "def read_img_file(fname):\n",
    "    img = image.load_img(fname, grayscale=False, target_size=(IMGROW, IMGROW))\n",
    "    x = image.img_to_array(img)\n",
    "    x = np.expand_dims(x[:,:,0], axis=2)\n",
    "    x = np.expand_dims(x, axis=0)\n",
    "    x /= 255\n",
    "    x = 1 - x   # invert image\n",
    "    return x"
   ]
  },
  {
   "cell_type": "code",
   "execution_count": 28,
   "metadata": {
    "scrolled": true
   },
   "outputs": [
    {
     "name": "stdout",
     "output_type": "stream",
     "text": [
      "Original image :\n"
     ]
    },
    {
     "data": {
      "image/png": "[encoded data removed]",
      "text/plain": [
       "<matplotlib.figure.Figure at 0x23696096ac8>"
      ]
     },
     "metadata": {},
     "output_type": "display_data"
    },
    {
     "name": "stdout",
     "output_type": "stream",
     "text": [
      "Processed image :\n"
     ]
    },
    {
     "data": {
      "image/png": "[encoded data removed]",
      "text/plain": [
       "<matplotlib.figure.Figure at 0x2369b900710>"
      ]
     },
     "metadata": {},
     "output_type": "display_data"
    },
    {
     "name": "stdout",
     "output_type": "stream",
     "text": [
      "Image shape, x shape: (183, 203, 3) (1, 28, 28, 1)\n"
     ]
    }
   ],
   "source": [
    "# show original\n",
    "fname = dir_image + 'apple10.jpg'\n",
    "\n",
    "img=mpimg.imread(fname)\n",
    "print('Original image :')\n",
    "plt.imshow(img)\n",
    "plt.show()\n",
    "\n",
    "# show processed image fed into CNN model\n",
    "x = read_img_file(fname)\n",
    "print('Processed image :')\n",
    "show_object(x*255)\n",
    "\n",
    "print(\"Image shape, x shape:\",img.shape,x.shape)"
   ]
  },
  {
   "cell_type": "code",
   "execution_count": 29,
   "metadata": {},
   "outputs": [
    {
     "name": "stdout",
     "output_type": "stream",
     "text": [
      "Predicted class : hedgehog\n"
     ]
    }
   ],
   "source": [
    "prediction = model.predict(x)\n",
    "y = np.argmax(prediction)\n",
    "#print(type(prediction),prediction.shape)\n",
    "print(\"Predicted class :\", classes[y])"
   ]
  },
  {
   "cell_type": "markdown",
   "metadata": {},
   "source": [
    "# Create file of QuickDraw image features"
   ]
  },
  {
   "cell_type": "code",
   "execution_count": 30,
   "metadata": {
    "collapsed": true
   },
   "outputs": [],
   "source": [
    "# define feature_model\n",
    "vec = model.get_layer('Dense_01')\n",
    "feature_model = Model(inputs=model.input, outputs=vec.output)"
   ]
  },
  {
   "cell_type": "code",
   "execution_count": 31,
   "metadata": {},
   "outputs": [
    {
     "name": "stdout",
     "output_type": "stream",
     "text": [
      "x_data, x_data_images, x shapes : (200000, 784) (200000, 28, 28, 1) (1, 28, 28, 1)\n"
     ]
    }
   ],
   "source": [
    "x_data_images = x_data.reshape(x_data.shape[0], IMGROW, IMGCOL, 1)\n",
    "x_data_images /= 255\n",
    "x = np.expand_dims(x_data_images[0],axis=0)\n",
    "print(\"x_data, x_data_images, x shapes :\", x_data.shape, x_data_images.shape,x.shape)"
   ]
  },
  {
   "cell_type": "code",
   "execution_count": 32,
   "metadata": {},
   "outputs": [
    {
     "name": "stdout",
     "output_type": "stream",
     "text": [
      "200000\n"
     ]
    }
   ],
   "source": [
    "# create image embedding with large quickdraw dataset with model trained on small quickdraw dataset above\n",
    "# find nearest quickdraw image to images outside of quickdraw dataset \n",
    "\n",
    "x_all_vec = []\n",
    "for i in range(n_data_all):\n",
    "    x = np.expand_dims(x_data_images[i],axis=0)\n",
    "    fvec = feature_model.predict(x)\n",
    "    x_all_vec.append(fvec[0])\n",
    "\n",
    "print(len(x_all_vec))"
   ]
  },
  {
   "cell_type": "code",
   "execution_count": 33,
   "metadata": {
    "collapsed": true
   },
   "outputs": [],
   "source": [
    "np.save(fname_feature_vec_npy, np.asarray(x_all_vec))"
   ]
  },
  {
   "cell_type": "markdown",
   "metadata": {},
   "source": [
    "# Nearest image search against QuickDraw image feature file"
   ]
  },
  {
   "cell_type": "code",
   "execution_count": 35,
   "metadata": {
    "collapsed": true
   },
   "outputs": [],
   "source": [
    "x_all_vec_np = np.load(fname_feature_vec_npy)\n",
    "x_all_vec = np.ndarray.tolist(x_all_vec_np)"
   ]
  },
  {
   "cell_type": "code",
   "execution_count": 34,
   "metadata": {
    "collapsed": true
   },
   "outputs": [],
   "source": [
    "from scipy.spatial import distance\n",
    "\n",
    "fname = dir_image + 'apple10.jpg'\n",
    "\n",
    "test_img = read_img_file(fname)\n",
    "test_img_vec = feature_model.predict(test_img)\n",
    "\n",
    "# make a list of euclidian distances between quickdraw images and the image I am checking\n",
    "\n",
    "dist = []\n",
    "for i, v in enumerate(x_all_vec):\n",
    "    dist.append(np.linalg.norm(v - test_img_vec))\n",
    "\n",
    "lowest_idx = sorted(range(len(dist)), key=dist.__getitem__)"
   ]
  },
  {
   "cell_type": "code",
   "execution_count": 35,
   "metadata": {},
   "outputs": [
    {
     "name": "stdout",
     "output_type": "stream",
     "text": [
      "Processed input image:\n"
     ]
    },
    {
     "data": {
      "image/png": "[encoded data removed]",
      "text/plain": [
       "<matplotlib.figure.Figure at 0x2369b964748>"
      ]
     },
     "metadata": {},
     "output_type": "display_data"
    },
    {
     "name": "stdout",
     "output_type": "stream",
     "text": [
      "Nearest image 0 Class : cactus\n"
     ]
    },
    {
     "data": {
      "image/png": "[encoded data removed]",
      "text/plain": [
       "<matplotlib.figure.Figure at 0x2362f6be438>"
      ]
     },
     "metadata": {},
     "output_type": "display_data"
    },
    {
     "name": "stdout",
     "output_type": "stream",
     "text": [
      "Nearest image 1 Class : hedgehog\n"
     ]
    },
    {
     "data": {
      "image/png": "[encoded data removed]",
      "text/plain": [
       "<matplotlib.figure.Figure at 0x236f2e61358>"
      ]
     },
     "metadata": {},
     "output_type": "display_data"
    },
    {
     "name": "stdout",
     "output_type": "stream",
     "text": [
      "Nearest image 2 Class : hedgehog\n"
     ]
    },
    {
     "data": {
      "image/png": "[encoded data removed]",
      "text/plain": [
       "<matplotlib.figure.Figure at 0x2369b6186d8>"
      ]
     },
     "metadata": {},
     "output_type": "display_data"
    },
    {
     "name": "stdout",
     "output_type": "stream",
     "text": [
      "Nearest image 3 Class : bird\n"
     ]
    },
    {
     "data": {
      "image/png": "[encoded data removed]",
      "text/plain": [
       "<matplotlib.figure.Figure at 0x2369b673f28>"
      ]
     },
     "metadata": {},
     "output_type": "display_data"
    },
    {
     "name": "stdout",
     "output_type": "stream",
     "text": [
      "Nearest image 4 Class : microphone\n"
     ]
    },
    {
     "data": {
      "image/png": "[encoded data removed]",
      "text/plain": [
       "<matplotlib.figure.Figure at 0x2362f68e2e8>"
      ]
     },
     "metadata": {},
     "output_type": "display_data"
    }
   ],
   "source": [
    "print(\"Processed input image:\")\n",
    "show_object(test_img*255)\n",
    "\n",
    "nearest_class = []\n",
    "for i in range(5):\n",
    "    xx = x_data_images[lowest_idx[i]] * 255\n",
    "    nearest_class.append(classes[y_data[lowest_idx[i]]])\n",
    "    print(\"Nearest image\",i,\"Class :\",nearest_class[i])\n",
    "    show_object(xx)"
   ]
  },
  {
   "cell_type": "code",
   "execution_count": null,
   "metadata": {
    "collapsed": true
   },
   "outputs": [],
   "source": []
  }
 ],
 "metadata": {
  "kernelspec": {
   "display_name": "Python 3",
   "language": "python",
   "name": "python3"
  },
  "language_info": {
   "codemirror_mode": {
    "name": "ipython",
    "version": 3
   },
   "file_extension": ".py",
   "mimetype": "text/x-python",
   "name": "python",
   "nbconvert_exporter": "python",
   "pygments_lexer": "ipython3",
   "version": "3.6.2"
  }
 },
 "nbformat": 4,
 "nbformat_minor": 2
}
